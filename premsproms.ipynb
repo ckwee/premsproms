{
 "cells": [
  {
   "cell_type": "code",
   "execution_count": 30,
   "metadata": {},
   "outputs": [],
   "source": [
    "from pykeepass import PyKeePass\n",
    "#C:/Users/Weeck/Queensland Health/Clinical and Business Intelligence Foundations Projects - KeePass/KeePassDB.kdbx\n",
    "kp = PyKeePass('KeePassDB.kdbx',password='wh0CanGuessThis1')"
   ]
  },
  {
   "cell_type": "code",
   "execution_count": 39,
   "metadata": {},
   "outputs": [],
   "source": [
    "entry=kp.find_entries(username='premspromsuser',first=True)"
   ]
  },
  {
   "cell_type": "code",
   "execution_count": 48,
   "metadata": {},
   "outputs": [
    {
     "data": {
      "text/plain": [
       "'PPr0ms1tf'"
      ]
     },
     "execution_count": 48,
     "metadata": {},
     "output_type": "execute_result"
    }
   ],
   "source": [
    "entry.password"
   ]
  },
  {
   "cell_type": "code",
   "execution_count": 53,
   "metadata": {},
   "outputs": [
    {
     "name": "stdout",
     "output_type": "stream",
     "text": [
      "ftp_download_dir \t=  c:/tmp/\n",
      "HOST\t\t=  10.28.23.128\n",
      "USER\t\t=  premspromsuser\n",
      "PASS\t\t=  PPr0ms1tf\n",
      "server \t\t=  sqlehqcbiqhitfae.database.windows.net\n",
      "database\t\t=  synehqcbiqhitfae\n",
      "container\t\t=  raw\n",
      "target_folder\t=  landing/prems_proms/\n",
      "datalake_account_url=  https://adlehqcbiqhitfaedl.blob.core.windows.net/\n",
      "kp_title            =  ITF ftp user premsproms\n",
      "kp_username         =  premspromsuser\n"
     ]
    }
   ],
   "source": [
    "import ftplib \n",
    "import os\n",
    "import glob\n",
    "import struct\n",
    "import pyodbc\n",
    "from zipfile import ZipFile\n",
    "import configparser    \n",
    "\n",
    "config = configparser.ConfigParser()\n",
    "config.read(\"config.txt\")\n",
    "ftp_download_dir    = config.get('FTP','ftp_download_dir')\n",
    "HOST                = config.get('FTP','HOST')\n",
    "USER                = config.get('FTP','USER')\n",
    "server              = config.get('AZURE','server')\n",
    "database            = config.get('AZURE','database')\n",
    "container           = config.get('AZURE','container')\n",
    "target_folder       = config.get('AZURE','target_folder')\n",
    "datalake_account_url= config.get('AZURE','datalake_account_url')\n",
    "kp_title            = config.get('keepass', 'title')\n",
    "kp_username         = config.get('keepass', 'username')\n",
    "PASS                = get_password(kp_username)\n",
    "\n",
    "print ('ftp_download_dir \t= ',ftp_download_dir) \n",
    "print ('HOST\t\t= ',HOST\t )\n",
    "print ('USER\t\t= ',USER\t )\t\n",
    "print ('PASS\t\t= ',PASS\t )\t\n",
    "print ('server \t\t= ',server \t )\t\n",
    "print ('database\t\t= ',database\t )\n",
    "print ('container\t\t= ',container\t )\n",
    "print ('target_folder\t= ',target_folder)\n",
    "print ('datalake_account_url= ',datalake_account_url)\n",
    "print ('kp_title            = ',kp_title     )\n",
    "print ('kp_username         = ',kp_username  )"
   ]
  },
  {
   "cell_type": "code",
   "execution_count": 49,
   "metadata": {
    "scrolled": true
   },
   "outputs": [
    {
     "name": "stdout",
     "output_type": "stream",
     "text": [
      "Downloading files to c:/tmp/ .... 0030348712_Baseset_2021-05-03_23-48-00.zip\n",
      "Downloading files to c:/tmp/ .... 0030348775_Baseset_2021-05-03_23-48-00.zip\n",
      "Downloading files to c:/tmp/ .... 0030349013_Baseset_2021-05-03_23-48-00.zip\n",
      "Downloading files to c:/tmp/ .... 0030349210_Baseset_2021-05-03_23-48-00.zip\n",
      "Downloading files to c:/tmp/ .... 0030349214_Baseset_2021-05-03_23-48-00.zip\n",
      "Downloading files to c:/tmp/ .... 0030349274_Baseset_2021-05-03_23-48-00.zip\n",
      "Downloading files to c:/tmp/ .... 0030349548_Baseset_2021-05-04_23-48-00.zip\n",
      "Downloading files to c:/tmp/ .... 0030349813_Baseset_2021-05-04_23-48-00.zip\n",
      "Downloading files to c:/tmp/ .... 0030350071_Baseset_2021-05-04_23-48-00.zip\n",
      "Downloading files to c:/tmp/ .... 0030350312_Baseset_2021-05-04_23-48-00.zip\n",
      "Downloading files to c:/tmp/ .... 0030350315_Baseset_2021-05-04_23-48-00.zip\n",
      "Downloading files to c:/tmp/ .... 0030350383_Baseset_2021-05-04_23-48-00.zip\n",
      "Downloading files to c:/tmp/ .... 0030350579_Baseset_2021-05-05_23-48-01.zip\n",
      "Downloading files to c:/tmp/ .... 0030350856_Baseset_2021-05-05_23-48-01.zip\n",
      "Downloading files to c:/tmp/ .... 0030351047_Baseset_2021-05-05_23-48-01.zip\n",
      "Downloading files to c:/tmp/ .... 0030351283_Baseset_2021-05-05_23-48-01.zip\n",
      "Downloading files to c:/tmp/ .... 0030351296_Baseset_2021-05-05_23-48-01.zip\n",
      "Downloading files to c:/tmp/ .... 0030351363_Baseset_2021-05-05_23-48-01.zip\n",
      "Downloading files to c:/tmp/ .... 0030351475_Baseset_2021-05-06_23-48-00.zip\n",
      "Downloading files to c:/tmp/ .... BasesetQLD.zip\n",
      "Downloading files to c:/tmp/ .... CaregiverDepartments.csv\n",
      "Downloading files to c:/tmp/ .... Caregivers.csv\n",
      "Downloading files to c:/tmp/ .... DepartmentsLevel3.csv\n",
      "Downloading files to c:/tmp/ .... MeasurementTypes.csv\n",
      "Downloading files to c:/tmp/ .... OrganizationQuestionnaires.csv\n",
      "Downloading files to c:/tmp/ .... PatientDepartments.csv\n",
      "Downloading files to c:/tmp/ .... PatientFlags.csv\n",
      "Downloading files to c:/tmp/ .... PatientQuestionnaireAlerts.csv\n",
      "Downloading files to c:/tmp/ .... PatientQuestionnaireAnswers.csv\n",
      "Downloading files to c:/tmp/ .... PatientQuestionnairePaths.csv\n",
      "Downloading files to c:/tmp/ .... PatientQuestionnaires.csv\n",
      "Downloading files to c:/tmp/ .... PatientQuestionnaireSubscales.csv\n",
      "Downloading files to c:/tmp/ .... PatientQuestionnaireSubscaleScores.csv\n",
      "Downloading files to c:/tmp/ .... Patients.csv\n",
      "Downloading files to c:/tmp/ .... QueenslandImportRecords.csv\n",
      "Downloading files to c:/tmp/ .... QuestionnaireAlerts.csv\n",
      "Downloading files to c:/tmp/ .... QuestionnaireAnswers.csv\n",
      "Downloading files to c:/tmp/ .... QuestionnairePathMeasurementMomentQuestionnaires.csv\n",
      "Downloading files to c:/tmp/ .... QuestionnairePathMeasurementMoments.csv\n",
      "Downloading files to c:/tmp/ .... QuestionnairePaths.csv\n",
      "Downloading files to c:/tmp/ .... QuestionnaireQuestions.csv\n",
      "Downloading files to c:/tmp/ .... QuestionnaireReferenceGroups.csv\n",
      "Downloading files to c:/tmp/ .... Questionnaires.csv\n",
      "Downloading files to c:/tmp/ .... QuestionnaireSubscaleReferenceGroups.csv\n",
      "Downloading files to c:/tmp/ .... QuestionnaireSubscales.csv\n",
      "Downloading files to c:/tmp/ .... ReasonNonResponses.csv\n",
      "Downloading files to c:/tmp/ .... ThirdParties.csv\n"
     ]
    }
   ],
   "source": [
    "def ftp_download_all_files(HOST, USER, PASS, ftp_download_dir):\n",
    "    #download all the files from the ftp server regardless of types and dates\n",
    "    try:\n",
    "        ftp=ftplib.FTP(HOST,USER,PASS)\n",
    "        for file in ftp.nlst():\n",
    "            ftp.retrbinary(\"RETR \" + file , open(ftp_download_dir + file, 'wb').write)\n",
    "            print('Downloading files to ' + ftp_download_dir + ' .... ' + file) \n",
    "        ftp.close()\n",
    "    except ftplib.all_errors as e: \n",
    "        print(e)\n",
    " \n",
    "def get_password(username):\n",
    "    try:\n",
    "        kp = PyKeePass('KeePassDB.kdbx',password='wh0CanGuessThis1')\n",
    "        entry=kp.find_entries(username='premspromsuser',first=True)\n",
    "        PASS=entry.password\n",
    "    except Exception as e:\n",
    "        print(e) \n",
    "    return PASS\n",
    "        \n",
    "kp=kp.find_entries(username='premspromsuser',first=True)\n",
    "PASS1=entry.password\n",
    "ftp_download_all_files(HOST, USER, PASS1, ftp_download_dir)"
   ]
  },
  {
   "cell_type": "code",
   "execution_count": 64,
   "metadata": {},
   "outputs": [
    {
     "data": {
      "text/plain": [
       "'PPr0ms1tf'"
      ]
     },
     "execution_count": 64,
     "metadata": {},
     "output_type": "execute_result"
    }
   ],
   "source": [
    "\n",
    "def get_password(myusername):\n",
    "    password=''\n",
    "    try:\n",
    "        kp = PyKeePass('KeePassDB.kdbx',password='wh0CanGuessThis1')\n",
    "        entry=kp.find_entries(username=myusername, first=True)\n",
    "        password=entry.password\n",
    "    except Exception as e:\n",
    "        print(e) \n",
    "    return password\n",
    "\n",
    "get_password('premspromsuser')"
   ]
  },
  {
   "cell_type": "code",
   "execution_count": null,
   "metadata": {},
   "outputs": [],
   "source": [
    "EXEC ODS_QUESTLINK.[usp_QUESTLINK_LOAD_DL_SYN]'https://adlehqcbiqhitfaedl.dfs.core.windows.net/raw/landing/prems_proms/'"
   ]
  }
 ],
 "metadata": {
  "kernelspec": {
   "display_name": "Python 3",
   "language": "python",
   "name": "python3"
  },
  "language_info": {
   "codemirror_mode": {
    "name": "ipython",
    "version": 3
   },
   "file_extension": ".py",
   "mimetype": "text/x-python",
   "name": "python",
   "nbconvert_exporter": "python",
   "pygments_lexer": "ipython3",
   "version": "3.7.6"
  }
 },
 "nbformat": 4,
 "nbformat_minor": 4
}
